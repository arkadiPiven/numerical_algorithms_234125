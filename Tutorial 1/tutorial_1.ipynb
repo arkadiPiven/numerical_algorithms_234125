{
 "cells": [
  {
   "cell_type": "markdown",
   "source": [
    "# LU Decomposition demo"
   ],
   "metadata": {
    "collapsed": false
   },
   "id": "4a77e0bb97451ea6"
  },
  {
   "cell_type": "markdown",
   "source": [
    "## Imports"
   ],
   "metadata": {
    "collapsed": false
   },
   "id": "9e61758487d598b7"
  },
  {
   "cell_type": "code",
   "execution_count": 17,
   "id": "initial_id",
   "metadata": {
    "collapsed": true,
    "ExecuteTime": {
     "end_time": "2023-10-30T18:03:37.929622Z",
     "start_time": "2023-10-30T18:03:37.925400Z"
    }
   },
   "outputs": [],
   "source": [
    "import numpy as np"
   ]
  },
  {
   "cell_type": "markdown",
   "source": [
    "## Define inputs"
   ],
   "metadata": {
    "collapsed": false
   },
   "id": "c5224116dc8b7ec5"
  },
  {
   "cell_type": "markdown",
   "source": [
    "#### This is the one of the matrices that was shown in the tutorial.\n",
    "#### The tol variable is the tolerance for the zero pivot check. In case the pivot in it's absolute value is smaller than the tolerance, the algorithm will stop."
   ],
   "metadata": {
    "collapsed": false
   },
   "id": "d520088911b5c7b2"
  },
  {
   "cell_type": "code",
   "execution_count": 18,
   "outputs": [],
   "source": [
    "mat = np.array([[1, 3, 1],\n",
    "                  [2, 8, 1],\n",
    "                  [1, 10, 4]])\n",
    "tol = 1e-5"
   ],
   "metadata": {
    "collapsed": false,
    "ExecuteTime": {
     "end_time": "2023-10-30T18:03:39.359550Z",
     "start_time": "2023-10-30T18:03:39.356417Z"
    }
   },
   "id": "bd2ce313fc36c858"
  },
  {
   "cell_type": "markdown",
   "source": [
    "## Extracting dimensions from the matrix, and defining the L and U matrices."
   ],
   "metadata": {
    "collapsed": false
   },
   "id": "f3c3bc817eac80e8"
  },
  {
   "cell_type": "code",
   "execution_count": 19,
   "outputs": [
    {
     "name": "stdout",
     "output_type": "stream",
     "text": [
      "Dimensions of the matrix: 3x3\n"
     ]
    }
   ],
   "source": [
    "shape = mat.shape\n",
    "m = shape[0]\n",
    "n = shape[1]\n",
    "\n",
    "L = np.eye(m)\n",
    "U = np.zeros((m, n))\n",
    "\n",
    "print(f\"Dimensions of the matrix: {m}x{n}\")"
   ],
   "metadata": {
    "collapsed": false,
    "ExecuteTime": {
     "end_time": "2023-10-30T18:03:40.846438Z",
     "start_time": "2023-10-30T18:03:40.841766Z"
    }
   },
   "id": "a559e9aa41aa6230"
  },
  {
   "cell_type": "markdown",
   "source": [
    "## LU Algorithm"
   ],
   "metadata": {
    "collapsed": false
   },
   "id": "cf8712763e1bfa12"
  },
  {
   "cell_type": "code",
   "execution_count": 20,
   "outputs": [],
   "source": [
    "for i in range(min(n,m)):\n",
    "    U[i, i:n] = mat[i, i:n]\n",
    "    if abs(U[i, i]) < tol:\n",
    "        print(\"The matrix has a zero pivot\")\n",
    "        break\n",
    "    else:\n",
    "        L[i+1:m, i] = mat[i+1:m, i]/U[i, i]\n",
    "        mat[i+1:m, i+1:n] = mat[i+1:m, i+1:n] - np.outer(L[i+1:m, i], U[i, i+1:n])"
   ],
   "metadata": {
    "collapsed": false,
    "ExecuteTime": {
     "end_time": "2023-10-30T18:03:42.176764Z",
     "start_time": "2023-10-30T18:03:42.174759Z"
    }
   },
   "id": "456c912522d208c0"
  },
  {
   "cell_type": "markdown",
   "source": [
    "## Results"
   ],
   "metadata": {
    "collapsed": false
   },
   "id": "f017b29bbf9c55ef"
  },
  {
   "cell_type": "code",
   "execution_count": 21,
   "outputs": [
    {
     "name": "stdout",
     "output_type": "stream",
     "text": [
      "L = \n",
      "[[1.  0.  0. ]\n",
      " [2.  1.  0. ]\n",
      " [1.  3.5 1. ]]\n",
      "U = \n",
      "[[ 1.  3.  1.]\n",
      " [ 0.  2. -1.]\n",
      " [ 0.  0.  6.]]\n"
     ]
    }
   ],
   "source": [
    "print(f\"L = \\n{L}\")\n",
    "print(f\"U = \\n{U}\")"
   ],
   "metadata": {
    "collapsed": false,
    "ExecuteTime": {
     "end_time": "2023-10-30T18:03:43.568800Z",
     "start_time": "2023-10-30T18:03:43.562585Z"
    }
   },
   "id": "a6e5234035105873"
  },
  {
   "cell_type": "markdown",
   "source": [
    "## Check"
   ],
   "metadata": {
    "collapsed": false
   },
   "id": "7b78841c19c5fa9e"
  },
  {
   "cell_type": "code",
   "execution_count": 22,
   "outputs": [
    {
     "name": "stdout",
     "output_type": "stream",
     "text": [
      "L*U = \n",
      "[[ 1.   3.   1. ]\n",
      " [ 2.   8.   1. ]\n",
      " [ 1.  10.   3.5]]\n"
     ]
    }
   ],
   "source": [
    "print(f\"L*U = \\n{L@U}\")"
   ],
   "metadata": {
    "collapsed": false,
    "ExecuteTime": {
     "end_time": "2023-10-30T18:03:44.977791Z",
     "start_time": "2023-10-30T18:03:44.972583Z"
    }
   },
   "id": "4eb12cb8f34f509e"
  }
 ],
 "metadata": {
  "kernelspec": {
   "display_name": "Python 3",
   "language": "python",
   "name": "python3"
  },
  "language_info": {
   "codemirror_mode": {
    "name": "ipython",
    "version": 2
   },
   "file_extension": ".py",
   "mimetype": "text/x-python",
   "name": "python",
   "nbconvert_exporter": "python",
   "pygments_lexer": "ipython2",
   "version": "2.7.6"
  }
 },
 "nbformat": 4,
 "nbformat_minor": 5
}
