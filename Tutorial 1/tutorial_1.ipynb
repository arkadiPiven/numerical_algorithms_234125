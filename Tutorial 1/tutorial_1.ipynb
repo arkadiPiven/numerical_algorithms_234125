{
 "cells": [
  {
   "cell_type": "code",
   "execution_count": 10,
   "id": "initial_id",
   "metadata": {
    "collapsed": true,
    "ExecuteTime": {
     "end_time": "2023-10-18T23:14:48.325832Z",
     "start_time": "2023-10-18T23:14:48.320158Z"
    }
   },
   "outputs": [],
   "source": [
    "# Imports\n",
    "\n",
    "import numpy as np"
   ]
  },
  {
   "cell_type": "code",
   "execution_count": 11,
   "outputs": [],
   "source": [
    "def lu_factorization(mat_a):\n",
    "    shape = mat_a.shape\n",
    "    print(shape)"
   ],
   "metadata": {
    "collapsed": false,
    "ExecuteTime": {
     "end_time": "2023-10-18T23:14:48.326068Z",
     "start_time": "2023-10-18T23:14:48.323835Z"
    }
   },
   "id": "a559e9aa41aa6230"
  },
  {
   "cell_type": "code",
   "execution_count": 12,
   "outputs": [],
   "source": [
    "mat_1 = np.array([[1, 3, 1],\n",
    "                  [2, 8, 1],\n",
    "                  [1, 10, 4]])"
   ],
   "metadata": {
    "collapsed": false,
    "ExecuteTime": {
     "end_time": "2023-10-18T23:14:48.330685Z",
     "start_time": "2023-10-18T23:14:48.327304Z"
    }
   },
   "id": "b09fb788ed81634a"
  },
  {
   "cell_type": "code",
   "execution_count": 13,
   "outputs": [
    {
     "name": "stdout",
     "output_type": "stream",
     "text": [
      "(3, 3)\n"
     ]
    }
   ],
   "source": [
    "lu_factorization(mat_1)"
   ],
   "metadata": {
    "collapsed": false,
    "ExecuteTime": {
     "end_time": "2023-10-18T23:14:49.337747Z",
     "start_time": "2023-10-18T23:14:49.332674Z"
    }
   },
   "id": "dd26458806c9185f"
  }
 ],
 "metadata": {
  "kernelspec": {
   "display_name": "Python 3",
   "language": "python",
   "name": "python3"
  },
  "language_info": {
   "codemirror_mode": {
    "name": "ipython",
    "version": 2
   },
   "file_extension": ".py",
   "mimetype": "text/x-python",
   "name": "python",
   "nbconvert_exporter": "python",
   "pygments_lexer": "ipython2",
   "version": "2.7.6"
  }
 },
 "nbformat": 4,
 "nbformat_minor": 5
}
